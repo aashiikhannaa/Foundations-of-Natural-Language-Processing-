{
  "nbformat": 4,
  "nbformat_minor": 0,
  "metadata": {
    "colab": {
      "provenance": []
    },
    "kernelspec": {
      "name": "python3",
      "display_name": "Python 3"
    },
    "language_info": {
      "name": "python"
    }
  },
  "cells": [
    {
      "cell_type": "code",
      "source": [
        "import nltk\n",
        "nltk.download('all')"
      ],
      "metadata": {
        "id": "h7nwmygC1-XE"
      },
      "execution_count": null,
      "outputs": []
    },
    {
      "cell_type": "code",
      "execution_count": null,
      "metadata": {
        "id": "ck7YdvIy0vHm",
        "colab": {
          "base_uri": "https://localhost:8080/"
        },
        "outputId": "3aaa17a5-e49f-4063-ed24-9c3653f8911e"
      },
      "outputs": [
        {
          "output_type": "execute_result",
          "data": {
            "text/plain": [
              "['english-kjv.txt',\n",
              " 'english-web.txt',\n",
              " 'finnish.txt',\n",
              " 'french.txt',\n",
              " 'german.txt',\n",
              " 'lolcat.txt',\n",
              " 'portuguese.txt',\n",
              " 'swedish.txt']"
            ]
          },
          "metadata": {},
          "execution_count": 3
        }
      ],
      "source": [
        "nltk.corpus.genesis.fileids()"
      ]
    },
    {
      "cell_type": "markdown",
      "source": [
        "2(A) Write a Python NLTK program to find the number of male and female names in the names\n",
        "corpus.Print the first 10 male and female names."
      ],
      "metadata": {
        "id": "LYWr_gC-2SvE"
      }
    },
    {
      "cell_type": "code",
      "source": [
        "from nltk.corpus import names\n",
        "nltk.corpus.names.fileids()"
      ],
      "metadata": {
        "colab": {
          "base_uri": "https://localhost:8080/"
        },
        "id": "IwSReaFE2kPk",
        "outputId": "4017c3e3-b4a0-4792-9ff7-20b1ab5b805e"
      },
      "execution_count": null,
      "outputs": [
        {
          "output_type": "execute_result",
          "data": {
            "text/plain": [
              "['female.txt', 'male.txt']"
            ]
          },
          "metadata": {},
          "execution_count": 5
        }
      ]
    },
    {
      "cell_type": "code",
      "source": [
        "with nltk.corpus.names.open('female.txt') as female:\n",
        "  femaleNames = female.read()\n",
        "# print(femaleNames)\n",
        "femaleNames = femaleNames.split(\"\\n\")[:-1]\n",
        "print(f\"Number of female names: {len(femaleNames)}\\n\")"
      ],
      "metadata": {
        "colab": {
          "base_uri": "https://localhost:8080/"
        },
        "id": "N8EdFK1N2r0Q",
        "outputId": "5be46132-d0a6-4a75-f0ee-f6821360615e"
      },
      "execution_count": null,
      "outputs": [
        {
          "output_type": "stream",
          "name": "stdout",
          "text": [
            "Number of female names: 5001\n",
            "\n"
          ]
        }
      ]
    },
    {
      "cell_type": "code",
      "source": [
        "with nltk.corpus.names.open('male.txt') as male:\n",
        "  maleNames = male.read()\n",
        "maleNames = maleNames.split(\"\\n\")[:-1]\n",
        "\n",
        "print(f\"Number of male names: {len(maleNames)}\")"
      ],
      "metadata": {
        "colab": {
          "base_uri": "https://localhost:8080/"
        },
        "id": "0v97WN-z2yj7",
        "outputId": "47abadf6-768e-417d-e611-e4ae56b74c29"
      },
      "execution_count": null,
      "outputs": [
        {
          "output_type": "stream",
          "name": "stdout",
          "text": [
            "Number of male names: 2943\n"
          ]
        }
      ]
    },
    {
      "cell_type": "markdown",
      "source": [
        "First ten female and male names"
      ],
      "metadata": {
        "id": "ZfaIisWs3GhB"
      }
    },
    {
      "cell_type": "code",
      "source": [
        "print(f\"First ten female names: \\n{femaleNames[:10]}\")\n",
        "print(f\"First ten male names: \\n{maleNames[:10]}\")"
      ],
      "metadata": {
        "colab": {
          "base_uri": "https://localhost:8080/"
        },
        "id": "9t2OcPbC2gQp",
        "outputId": "892e9681-bc00-4257-cbe5-848294bf83f1"
      },
      "execution_count": null,
      "outputs": [
        {
          "output_type": "stream",
          "name": "stdout",
          "text": [
            "First ten female names: \n",
            "['Abagael', 'Abagail', 'Abbe', 'Abbey', 'Abbi', 'Abbie', 'Abby', 'Abigael', 'Abigail', 'Abigale']\n",
            "First ten male names: \n",
            "['Aamir', 'Aaron', 'Abbey', 'Abbie', 'Abbot', 'Abbott', 'Abby', 'Abdel', 'Abdul', 'Abdulkarim']\n"
          ]
        }
      ]
    },
    {
      "cell_type": "markdown",
      "source": [
        "2(B) Write a Python NLTK program to print the first 15 random combine labeled male and labeled\n",
        "female names from names corpus."
      ],
      "metadata": {
        "id": "rkDVRBet3P-q"
      }
    },
    {
      "cell_type": "markdown",
      "source": [
        "Randomly printing first 15 female / male names from female.txt and male.txt"
      ],
      "metadata": {
        "id": "HExRs4SM3Tfc"
      }
    },
    {
      "cell_type": "code",
      "source": [
        "import random\n",
        "for i in range(15):\n",
        "  listOfName = [femaleNames, maleNames]\n",
        "  name = random.choice(listOfName)\n",
        "  randomName = random.choice(name)\n",
        "  print(f\"{i+1} : {randomName}\")  "
      ],
      "metadata": {
        "colab": {
          "base_uri": "https://localhost:8080/"
        },
        "id": "x443b-Iq3N-7",
        "outputId": "bea70d0e-abcf-43c5-a3d8-a7759b0f9f8f"
      },
      "execution_count": null,
      "outputs": [
        {
          "output_type": "stream",
          "name": "stdout",
          "text": [
            "1 : Darwin\n",
            "2 : Harwell\n",
            "3 : Karin\n",
            "4 : Emiline\n",
            "5 : Norwood\n",
            "6 : Mirella\n",
            "7 : Ardeen\n",
            "8 : Goddart\n",
            "9 : Mortie\n",
            "10 : Pembroke\n",
            "11 : Jeannie\n",
            "12 : Lawerence\n",
            "13 : Teri\n",
            "14 : Clemmie\n",
            "15 : Madalyn\n"
          ]
        }
      ]
    }
  ]
}